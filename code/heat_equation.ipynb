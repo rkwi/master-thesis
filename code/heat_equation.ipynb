{
  "nbformat": 4,
  "nbformat_minor": 0,
  "metadata": {
    "colab": {
      "name": "heat_equation.ipynb",
      "provenance": [],
      "include_colab_link": true
    },
    "kernelspec": {
      "name": "python3",
      "display_name": "Python 3"
    }
  },
  "cells": [
    {
      "cell_type": "markdown",
      "metadata": {
        "id": "view-in-github",
        "colab_type": "text"
      },
      "source": [
        "<a href=\"https://colab.research.google.com/github/rkwi/master-thesis/blob/master/code/heat_equation.ipynb\" target=\"_parent\"><img src=\"https://colab.research.google.com/assets/colab-badge.svg\" alt=\"Open In Colab\"/></a>"
      ]
    },
    {
      "cell_type": "code",
      "metadata": {
        "id": "qxaA4TCIlsVh",
        "colab_type": "code",
        "colab": {}
      },
      "source": [
        "from google.colab import files\n",
        "\n",
        "import platform, sys\n",
        "python_version=platform.python_version()\n",
        "from distutils.version import LooseVersion, StrictVersion\n",
        "\n",
        "if ( LooseVersion(python_version) < LooseVersion(\"3.0.0\")):\n",
        "    print(\"Python3 is needed!\");\n",
        "    print(\"How to fix: Runtime/Change_runtime_type/Python 3\");\n",
        "    sys.exit()\n",
        "try:\n",
        "    from dolfin import *; from mshr import *\n",
        "except ImportError as e:\n",
        "    !apt-get install -y -qq software-properties-common python-software-properties module-init-tools\n",
        "    !add-apt-repository -y ppa:fenics-packages/fenics\n",
        "    !apt-get update -qq\n",
        "    !apt install -y --no-install-recommends fenics\n",
        "    from dolfin import *; from mshr import *\n",
        "    \n",
        "import matplotlib.pyplot as plt;\n",
        "from IPython.display import clear_output, display; import time; import dolfin.common.plotting as fenicsplot \n",
        "import time\n",
        "import numpy as np\n",
        "import pandas as pd\n",
        "from fenics import *\n",
        "import os, sys, shutil\n",
        "\n",
        "dolfin_version = dolfin.__version__\n",
        "print ('dolfin version:', dolfin_version)\n",
        "\n",
        "!rm -rf * # clean up all files\n",
        "# Useful commands\n",
        "# Remove an empty folder      : os.rmdir(\"my_results\")\n",
        "# Remove a folder with files  : shutil.rmtree(\"results\")\n",
        "# Make a folder               : os.mkdir(\"my_results\")\n",
        "# Runtime/Change_runtime_type/Python3\n",
        "\n"
      ],
      "execution_count": 0,
      "outputs": []
    },
    {
      "cell_type": "code",
      "metadata": {
        "id": "BjDNsWRamEjf",
        "colab_type": "code",
        "colab": {}
      },
      "source": [
        "def errornorm_L1(u_e, u):\n",
        "  V = u.function_space()\n",
        "  mesh = V.mesh()\n",
        "  degree = V.ufl_element().degree()\n",
        "  W = FunctionSpace(mesh, 'P', degree + 4)\n",
        "  u_e_W = interpolate(u_e, W)\n",
        "  u_W = interpolate(u, W)\n",
        "  e_W = Function(W)\n",
        "  e_W.vector()[:] = u_e_W.vector().get_local() - u_W.vector().get_local()\n",
        "  error = abs(e_W)*dx\n",
        "  return abs(assemble(error))\n",
        "\n",
        "def errornorm_Linf(u_e, u):\n",
        "  S = FunctionSpace(u.function_space().mesh(),'P',u.function_space().ufl_element().degree() + 4)\n",
        "  u_e_interpolated = interpolate(u_e,S)\n",
        "  u_interpolated = interpolate(u,S)\n",
        "  temp = u_e_interpolated.vector() - u_interpolated.vector()\n",
        "  return norm(temp,'linf')\n",
        "\n",
        "def create_error_table(N_list, L1_error, L2_error, Linf_error):\n",
        "  row = len(L1_error)\n",
        "  data_array = np.zeros((row,6))\n",
        "  for i in range(row):\n",
        "    for j in range(6):\n",
        "      if j == 0:\n",
        "        data_array[i][j] = L1_error[i]\n",
        "      elif j == 1 and i < row - 1:\n",
        "        data_array[i][j] = np.log2(L1_error[i]/L1_error[i+1])\n",
        "      elif j == 2:\n",
        "        data_array[i][j] = L2_error[i]\n",
        "      elif j == 3 and i < row - 1:\n",
        "        data_array[i][j] = np.log2(L2_error[i]/L2_error[i+1])\n",
        "      elif j == 4:\n",
        "        data_array[i][j] = Linf_error[i]\n",
        "      elif j == 5 and i < row - 1:\n",
        "        data_array[i][j] = np.log2(Linf_error[i]/Linf_error[i+1])\n",
        "  table = pd.DataFrame(data_array)\n",
        "  table.set_index([[str('1/' + str(N)) for N in N_list]],inplace=True)\n",
        "  table.columns = [['L1','L1_rate','L2','L2_rate','Linf','Linf_rate']]\n",
        "  return table"
      ],
      "execution_count": 0,
      "outputs": []
    },
    {
      "cell_type": "code",
      "metadata": {
        "id": "jZITVuAUmRtT",
        "colab_type": "code",
        "colab": {}
      },
      "source": [
        "N_list = [16,32,64,128]\n",
        "error_L1_list = []\n",
        "error_L2_list = []\n",
        "error_Linf_list = []\n",
        "for N in N_list:\n",
        "  T = 0.5\n",
        "  dt = 1.0/(2*N)\n",
        "  k = Constant(dt)\n",
        "  num_steps = int(T/dt)\n",
        "  interpolation_degree = 3\n",
        "  \n",
        "  mesh = UnitSquareMesh(N, N)\n",
        "  V = FunctionSpace(mesh, 'P', 1)\n",
        "\n",
        "  def boundary(x, on_boundary):\n",
        "    return on_boundary\n",
        "\n",
        "  bc = DirichletBC(V, 0, boundary)\n",
        "  \n",
        "  u_e = Expression('cos(t)*sin(pi*x[0])*sin(pi*x[1])',degree=interpolation_degree, t=0)\n",
        "\n",
        "  u0 = interpolate(u_e, V)\n",
        "\n",
        "  u = TrialFunction(V)\n",
        "  v = TestFunction(V)\n",
        "  f = Expression('(-sin(t) + 2*pow(pi, 2)*cos(t))*sin(pi*x[0])*sin(pi*x[1])',degree=interpolation_degree,t=0)\n",
        "  f0 = Expression('(-sin(t) + 2*pow(pi, 2)*cos(t))*sin(pi*x[0])*sin(pi*x[1])',degree=interpolation_degree,t=0)\n",
        "\n",
        "  F = u*v*dx + 0.5*k*dot(grad(u + u0), grad(v))*dx - (u0 + 0.5*k*(f + f0))*v*dx\n",
        "  a, L = lhs(F), rhs(F)\n",
        "\n",
        "  u = Function(V)\n",
        "  t = 0\n",
        "  for n in range(num_steps):\n",
        "    t += dt\n",
        "    f.t = t\n",
        "    f0.t = t - dt\n",
        "    u_e.t = t\n",
        "\n",
        "    solve(a == L, u, bc)\n",
        "\n",
        "    u0.assign(u)\n",
        "    \n",
        "  error_L1_list.append(errornorm_L1(u_e,u))\n",
        "  error_L2_list.append(errornorm(u_e,u,'L2'))\n",
        "  error_Linf_list.append(errornorm_Linf(u_e,u))"
      ],
      "execution_count": 0,
      "outputs": []
    },
    {
      "cell_type": "code",
      "metadata": {
        "id": "Q-he5uHhmfzc",
        "colab_type": "code",
        "colab": {}
      },
      "source": [
        "u_table = create_error_table(N_list,error_L1_list,error_L2_list,error_Linf_list)"
      ],
      "execution_count": 0,
      "outputs": []
    },
    {
      "cell_type": "code",
      "metadata": {
        "id": "QfFnSRizmotD",
        "colab_type": "code",
        "colab": {
          "base_uri": "https://localhost:8080/",
          "height": 166
        },
        "outputId": "e1bb9a61-6dc1-4c70-e8cb-f5f7a70c6f51"
      },
      "source": [
        "u_table"
      ],
      "execution_count": 5,
      "outputs": [
        {
          "output_type": "execute_result",
          "data": {
            "text/html": [
              "<div>\n",
              "<style scoped>\n",
              "    .dataframe tbody tr th:only-of-type {\n",
              "        vertical-align: middle;\n",
              "    }\n",
              "\n",
              "    .dataframe tbody tr th {\n",
              "        vertical-align: top;\n",
              "    }\n",
              "\n",
              "    .dataframe thead tr th {\n",
              "        text-align: left;\n",
              "    }\n",
              "</style>\n",
              "<table border=\"1\" class=\"dataframe\">\n",
              "  <thead>\n",
              "    <tr>\n",
              "      <th></th>\n",
              "      <th>L1</th>\n",
              "      <th>L1_rate</th>\n",
              "      <th>L2</th>\n",
              "      <th>L2_rate</th>\n",
              "      <th>Linf</th>\n",
              "      <th>Linf_rate</th>\n",
              "    </tr>\n",
              "  </thead>\n",
              "  <tbody>\n",
              "    <tr>\n",
              "      <th>1/16</th>\n",
              "      <td>0.003978</td>\n",
              "      <td>1.992733</td>\n",
              "      <td>0.004813</td>\n",
              "      <td>1.993078</td>\n",
              "      <td>0.011062</td>\n",
              "      <td>1.991513</td>\n",
              "    </tr>\n",
              "    <tr>\n",
              "      <th>1/32</th>\n",
              "      <td>0.001000</td>\n",
              "      <td>1.998171</td>\n",
              "      <td>0.001209</td>\n",
              "      <td>1.998264</td>\n",
              "      <td>0.002782</td>\n",
              "      <td>1.997878</td>\n",
              "    </tr>\n",
              "    <tr>\n",
              "      <th>1/64</th>\n",
              "      <td>0.000250</td>\n",
              "      <td>1.999545</td>\n",
              "      <td>0.000303</td>\n",
              "      <td>1.999566</td>\n",
              "      <td>0.000696</td>\n",
              "      <td>1.999469</td>\n",
              "    </tr>\n",
              "    <tr>\n",
              "      <th>1/128</th>\n",
              "      <td>0.000063</td>\n",
              "      <td>0.000000</td>\n",
              "      <td>0.000076</td>\n",
              "      <td>0.000000</td>\n",
              "      <td>0.000174</td>\n",
              "      <td>0.000000</td>\n",
              "    </tr>\n",
              "  </tbody>\n",
              "</table>\n",
              "</div>"
            ],
            "text/plain": [
              "             L1   L1_rate        L2   L2_rate      Linf Linf_rate\n",
              "1/16   0.003978  1.992733  0.004813  1.993078  0.011062  1.991513\n",
              "1/32   0.001000  1.998171  0.001209  1.998264  0.002782  1.997878\n",
              "1/64   0.000250  1.999545  0.000303  1.999566  0.000696  1.999469\n",
              "1/128  0.000063  0.000000  0.000076  0.000000  0.000174  0.000000"
            ]
          },
          "metadata": {
            "tags": []
          },
          "execution_count": 5
        }
      ]
    },
    {
      "cell_type": "code",
      "metadata": {
        "id": "uhn0uEU7mpXr",
        "colab_type": "code",
        "colab": {}
      },
      "source": [
        "u_table.to_latex('u_table.txt',float_format='%.3E')"
      ],
      "execution_count": 0,
      "outputs": []
    }
  ]
}