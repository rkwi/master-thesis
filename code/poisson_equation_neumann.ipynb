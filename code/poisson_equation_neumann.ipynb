{
  "nbformat": 4,
  "nbformat_minor": 0,
  "metadata": {
    "colab": {
      "name": "poisson_equation_neumann.ipynb",
      "provenance": [],
      "include_colab_link": true
    },
    "kernelspec": {
      "name": "python3",
      "display_name": "Python 3"
    }
  },
  "cells": [
    {
      "cell_type": "markdown",
      "metadata": {
        "id": "view-in-github",
        "colab_type": "text"
      },
      "source": [
        "<a href=\"https://colab.research.google.com/github/rkwi/master-thesis/blob/master/code/poisson_equation_neumann.ipynb\" target=\"_parent\"><img src=\"https://colab.research.google.com/assets/colab-badge.svg\" alt=\"Open In Colab\"/></a>"
      ]
    },
    {
      "cell_type": "code",
      "metadata": {
        "id": "z4ZqPVWiucDK",
        "colab_type": "code",
        "colab": {}
      },
      "source": [
        "from google.colab import files\n",
        "\n",
        "import platform, sys\n",
        "python_version=platform.python_version()\n",
        "from distutils.version import LooseVersion, StrictVersion\n",
        "\n",
        "if ( LooseVersion(python_version) < LooseVersion(\"3.0.0\")):\n",
        "    print(\"Python3 is needed!\");\n",
        "    print(\"How to fix: Runtime/Change_runtime_type/Python 3\");\n",
        "    sys.exit()\n",
        "try:\n",
        "    from dolfin import *; from mshr import *\n",
        "except ImportError as e:\n",
        "    !apt-get install -y -qq software-properties-common python-software-properties module-init-tools\n",
        "    !add-apt-repository -y ppa:fenics-packages/fenics\n",
        "    !apt-get update -qq\n",
        "    !apt install -y --no-install-recommends fenics\n",
        "    from dolfin import *; from mshr import *\n",
        "    \n",
        "import matplotlib.pyplot as plt;\n",
        "from IPython.display import clear_output, display; import time; import dolfin.common.plotting as fenicsplot \n",
        "import time\n",
        "import numpy as np\n",
        "import pandas as pd\n",
        "from fenics import *\n",
        "import os, sys, shutil\n",
        "\n",
        "dolfin_version = dolfin.__version__\n",
        "print ('dolfin version:', dolfin_version)\n",
        "\n",
        "!rm -rf * # clean up all files\n",
        "# Useful commands\n",
        "# Remove an empty folder      : os.rmdir(\"my_results\")\n",
        "# Remove a folder with files  : shutil.rmtree(\"results\")\n",
        "# Make a folder               : os.mkdir(\"my_results\")\n",
        "# Runtime/Change_runtime_type/Python3"
      ],
      "execution_count": 0,
      "outputs": []
    },
    {
      "cell_type": "code",
      "metadata": {
        "id": "TAPrioY-unJ0",
        "colab_type": "code",
        "colab": {}
      },
      "source": [
        "def errornorm_L1(u_e, u):\n",
        "  V = u.function_space()\n",
        "  mesh = V.mesh()\n",
        "  degree = V.ufl_element().degree()\n",
        "  W = FunctionSpace(mesh, 'P', degree + 4)\n",
        "  u_e_W = interpolate(u_e, W)\n",
        "  u_W = interpolate(u, W)\n",
        "  e_W = Function(W)\n",
        "  e_W.vector()[:] = u_e_W.vector().get_local() - u_W.vector().get_local()\n",
        "  error = abs(e_W)*dx\n",
        "  return abs(assemble(error))\n",
        "\n",
        "def errornorm_Linf(u_e, u):\n",
        "  S = FunctionSpace(u.function_space().mesh(),'P',u.function_space().ufl_element().degree() + 4)\n",
        "  u_e_interpolated = interpolate(u_e,S)\n",
        "  u_interpolated = interpolate(u,S)\n",
        "  temp = u_e_interpolated.vector() - u_interpolated.vector()\n",
        "  return norm(temp,'linf')\n",
        "\n",
        "def create_error_table(N_list, L1_error, L2_error, Linf_error):\n",
        "  row = len(L1_error)\n",
        "  data_array = np.zeros((row,6))\n",
        "  for i in range(row):\n",
        "    for j in range(6):\n",
        "      if j == 0:\n",
        "        data_array[i][j] = L1_error[i]\n",
        "      elif j == 1 and i < row - 1:\n",
        "        data_array[i][j] = np.log2(L1_error[i]/L1_error[i+1])\n",
        "      elif j == 2:\n",
        "        data_array[i][j] = L2_error[i]\n",
        "      elif j == 3 and i < row - 1:\n",
        "        data_array[i][j] = np.log2(L2_error[i]/L2_error[i+1])\n",
        "      elif j == 4:\n",
        "        data_array[i][j] = Linf_error[i]\n",
        "      elif j == 5 and i < row - 1:\n",
        "        data_array[i][j] = np.log2(Linf_error[i]/Linf_error[i+1])\n",
        "  table = pd.DataFrame(data_array)\n",
        "  table.set_index([[str('1/' + str(N)) for N in N_list]],inplace=True)\n",
        "  table.columns = [['L1','L1_rate','L2','L2_rate','Linf','Linf_rate']]\n",
        "  return table"
      ],
      "execution_count": 0,
      "outputs": []
    },
    {
      "cell_type": "code",
      "metadata": {
        "id": "IFgIXMlIun2i",
        "colab_type": "code",
        "colab": {}
      },
      "source": [
        "# Mixed Finite Element Method\n",
        "from __future__ import print_function\n",
        "from fenics import *\n",
        "N_list = [16,32,64,128]\n",
        "error_L2_list = []\n",
        "u_list = []\n",
        "u_exact_list = []\n",
        "for N in N_list:\n",
        "  interpolation_degree = 3\n",
        "  mesh = UnitSquareMesh(N, N)\n",
        "  V = FiniteElement(\"P\",triangle,1)\n",
        "  R = FiniteElement(\"R\",triangle,0)\n",
        "  W = FunctionSpace(mesh,V*R)\n",
        "\n",
        "  u_exact = Expression('cos(pi*x[0])*cos(pi*x[1])', degree=interpolation_degree)\n",
        "\n",
        "  (u, c) = TrialFunction(W)\n",
        "  (v, d) = TestFunctions(W)\n",
        "  f = Expression(\"2*pow(pi, 2)*cos(pi*x[0])*cos(pi*x[1])\",degree=interpolation_degree)\n",
        "  g = Constant(0)\n",
        "  a = (inner(grad(u), grad(v)) + c*v + u*d)*dx\n",
        "  L = f*v*dx + g*v*ds\n",
        "\n",
        "  w = Function(W)\n",
        "  solve(a == L, w)\n",
        "  (u, temp) = w.split()\n",
        "  u_list.append(u)\n",
        "  u_exact_list.append(u_exact)\n",
        "\n",
        "error_L2_list = []\n",
        "error_L1_list = []\n",
        "error_Linf_list = []\n",
        "for i in range(len(u_list)):\n",
        "  error_L2_list.append(errornorm(u_exact_list[i],u_list[i],'L2'))\n",
        "  error_L1_list.append(errornorm_L1(u_exact_list[i],u_list[i]))\n",
        "  error_Linf_list.append(errornorm_Linf(u_exact_list[i],u_list[i]))"
      ],
      "execution_count": 0,
      "outputs": []
    },
    {
      "cell_type": "code",
      "metadata": {
        "id": "Nem5B3pbvjI3",
        "colab_type": "code",
        "colab": {}
      },
      "source": [
        "u_table = create_error_table(N_list,error_L1_list,error_L2_list,error_Linf_list)"
      ],
      "execution_count": 0,
      "outputs": []
    },
    {
      "cell_type": "code",
      "metadata": {
        "id": "D5JiiiLhvnmk",
        "colab_type": "code",
        "colab": {
          "base_uri": "https://localhost:8080/",
          "height": 166
        },
        "outputId": "f5d175b6-b764-4893-db0f-7ce72c50007e"
      },
      "source": [
        "u_table\n"
      ],
      "execution_count": 6,
      "outputs": [
        {
          "output_type": "execute_result",
          "data": {
            "text/html": [
              "<div>\n",
              "<style scoped>\n",
              "    .dataframe tbody tr th:only-of-type {\n",
              "        vertical-align: middle;\n",
              "    }\n",
              "\n",
              "    .dataframe tbody tr th {\n",
              "        vertical-align: top;\n",
              "    }\n",
              "\n",
              "    .dataframe thead tr th {\n",
              "        text-align: left;\n",
              "    }\n",
              "</style>\n",
              "<table border=\"1\" class=\"dataframe\">\n",
              "  <thead>\n",
              "    <tr>\n",
              "      <th></th>\n",
              "      <th>L1</th>\n",
              "      <th>L1_rate</th>\n",
              "      <th>L2</th>\n",
              "      <th>L2_rate</th>\n",
              "      <th>Linf</th>\n",
              "      <th>Linf_rate</th>\n",
              "    </tr>\n",
              "  </thead>\n",
              "  <tbody>\n",
              "    <tr>\n",
              "      <th>1/16</th>\n",
              "      <td>0.004397</td>\n",
              "      <td>1.987525</td>\n",
              "      <td>0.005339</td>\n",
              "      <td>1.985204</td>\n",
              "      <td>0.016615</td>\n",
              "      <td>1.765265</td>\n",
              "    </tr>\n",
              "    <tr>\n",
              "      <th>1/32</th>\n",
              "      <td>0.001109</td>\n",
              "      <td>1.996576</td>\n",
              "      <td>0.001348</td>\n",
              "      <td>1.995855</td>\n",
              "      <td>0.004888</td>\n",
              "      <td>1.802592</td>\n",
              "    </tr>\n",
              "    <tr>\n",
              "      <th>1/64</th>\n",
              "      <td>0.000278</td>\n",
              "      <td>1.999071</td>\n",
              "      <td>0.000338</td>\n",
              "      <td>1.998856</td>\n",
              "      <td>0.001401</td>\n",
              "      <td>1.827636</td>\n",
              "    </tr>\n",
              "    <tr>\n",
              "      <th>1/128</th>\n",
              "      <td>0.000070</td>\n",
              "      <td>0.000000</td>\n",
              "      <td>0.000085</td>\n",
              "      <td>0.000000</td>\n",
              "      <td>0.000395</td>\n",
              "      <td>0.000000</td>\n",
              "    </tr>\n",
              "  </tbody>\n",
              "</table>\n",
              "</div>"
            ],
            "text/plain": [
              "             L1   L1_rate        L2   L2_rate      Linf Linf_rate\n",
              "1/16   0.004397  1.987525  0.005339  1.985204  0.016615  1.765265\n",
              "1/32   0.001109  1.996576  0.001348  1.995855  0.004888  1.802592\n",
              "1/64   0.000278  1.999071  0.000338  1.998856  0.001401  1.827636\n",
              "1/128  0.000070  0.000000  0.000085  0.000000  0.000395  0.000000"
            ]
          },
          "metadata": {
            "tags": []
          },
          "execution_count": 6
        }
      ]
    },
    {
      "cell_type": "code",
      "metadata": {
        "id": "Mt7i1vltycOt",
        "colab_type": "code",
        "colab": {}
      },
      "source": [
        "u_table.to_latex('u_table.txt',float_format='%.3E')"
      ],
      "execution_count": 0,
      "outputs": []
    },
    {
      "cell_type": "code",
      "metadata": {
        "id": "9ENd5-XNyfzz",
        "colab_type": "code",
        "colab": {}
      },
      "source": [
        "# Fix a Point Method\n",
        "from __future__ import print_function\n",
        "from fenics import *\n",
        "N_list = [16,32,64,128]\n",
        "error_L2_list = []\n",
        "u_list = []\n",
        "u_exact_list = []\n",
        "for N in N_list:\n",
        "  interpolation_degree = 3\n",
        "  mesh = UnitSquareMesh(N, N)\n",
        "  V = FunctionSpace(mesh, 'P', 1)\n",
        "\n",
        "  u_exact = Expression('cos(pi*x[0])*cos(pi*x[1])', degree=interpolation_degree)\n",
        "\n",
        "  u = TrialFunction(V)\n",
        "  v = TestFunction(V)\n",
        "  f = Expression('2*pow(pi,2)*cos(pi*x[0])*cos(pi*x[1])', degree=interpolation_degree)\n",
        "  F = dot(grad(u),grad(v))*dx - f*v*dx\n",
        "  a = lhs(F)\n",
        "  L = rhs(F)\n",
        "  \n",
        "  bc = DirichletBC(V, 0, 'near(x[0],0.5) && near(x[1],0.5)', 'pointwise')\n",
        "  u = Function(V)\n",
        "  solve(a == L, u, bc)\n",
        "  \n",
        "  u_list.append(u)\n",
        "  u_exact_list.append(u_exact)\n",
        "  \n",
        "error_L2_list = []\n",
        "error_L1_list = []\n",
        "error_Linf_list = []\n",
        "for i in range(len(u_list)):\n",
        "  error_L2_list.append(errornorm(u_exact_list[i],u_list[i],'L2'))\n",
        "  error_L1_list.append(errornorm_L1(u_exact_list[i],u_list[i]))\n",
        "  error_Linf_list.append(errornorm_Linf(u_exact_list[i],u_list[i]))"
      ],
      "execution_count": 0,
      "outputs": []
    },
    {
      "cell_type": "code",
      "metadata": {
        "id": "K7I9POS4yypr",
        "colab_type": "code",
        "colab": {}
      },
      "source": [
        "u_table = create_error_table(N_list,error_L1_list,error_L2_list,error_Linf_list)"
      ],
      "execution_count": 0,
      "outputs": []
    },
    {
      "cell_type": "code",
      "metadata": {
        "id": "3AMmb4tby0AS",
        "colab_type": "code",
        "colab": {
          "base_uri": "https://localhost:8080/",
          "height": 166
        },
        "outputId": "fe24d06c-86d7-4a49-8743-2df8c51da464"
      },
      "source": [
        "u_table"
      ],
      "execution_count": 9,
      "outputs": [
        {
          "output_type": "execute_result",
          "data": {
            "text/html": [
              "<div>\n",
              "<style scoped>\n",
              "    .dataframe tbody tr th:only-of-type {\n",
              "        vertical-align: middle;\n",
              "    }\n",
              "\n",
              "    .dataframe tbody tr th {\n",
              "        vertical-align: top;\n",
              "    }\n",
              "\n",
              "    .dataframe thead tr th {\n",
              "        text-align: left;\n",
              "    }\n",
              "</style>\n",
              "<table border=\"1\" class=\"dataframe\">\n",
              "  <thead>\n",
              "    <tr>\n",
              "      <th></th>\n",
              "      <th>L1</th>\n",
              "      <th>L1_rate</th>\n",
              "      <th>L2</th>\n",
              "      <th>L2_rate</th>\n",
              "      <th>Linf</th>\n",
              "      <th>Linf_rate</th>\n",
              "    </tr>\n",
              "  </thead>\n",
              "  <tbody>\n",
              "    <tr>\n",
              "      <th>1/16</th>\n",
              "      <td>0.004391</td>\n",
              "      <td>1.987605</td>\n",
              "      <td>0.005341</td>\n",
              "      <td>1.985262</td>\n",
              "      <td>0.016465</td>\n",
              "      <td>1.763006</td>\n",
              "    </tr>\n",
              "    <tr>\n",
              "      <th>1/32</th>\n",
              "      <td>0.001107</td>\n",
              "      <td>1.996631</td>\n",
              "      <td>0.001349</td>\n",
              "      <td>1.995870</td>\n",
              "      <td>0.004851</td>\n",
              "      <td>1.801134</td>\n",
              "    </tr>\n",
              "    <tr>\n",
              "      <th>1/64</th>\n",
              "      <td>0.000277</td>\n",
              "      <td>1.999089</td>\n",
              "      <td>0.000338</td>\n",
              "      <td>1.998860</td>\n",
              "      <td>0.001392</td>\n",
              "      <td>1.826563</td>\n",
              "    </tr>\n",
              "    <tr>\n",
              "      <th>1/128</th>\n",
              "      <td>0.000069</td>\n",
              "      <td>0.000000</td>\n",
              "      <td>0.000085</td>\n",
              "      <td>0.000000</td>\n",
              "      <td>0.000392</td>\n",
              "      <td>0.000000</td>\n",
              "    </tr>\n",
              "  </tbody>\n",
              "</table>\n",
              "</div>"
            ],
            "text/plain": [
              "             L1   L1_rate        L2   L2_rate      Linf Linf_rate\n",
              "1/16   0.004391  1.987605  0.005341  1.985262  0.016465  1.763006\n",
              "1/32   0.001107  1.996631  0.001349  1.995870  0.004851  1.801134\n",
              "1/64   0.000277  1.999089  0.000338  1.998860  0.001392  1.826563\n",
              "1/128  0.000069  0.000000  0.000085  0.000000  0.000392  0.000000"
            ]
          },
          "metadata": {
            "tags": []
          },
          "execution_count": 9
        }
      ]
    },
    {
      "cell_type": "code",
      "metadata": {
        "id": "7jqRwbLKzPr7",
        "colab_type": "code",
        "colab": {}
      },
      "source": [
        "u_table.to_latex('u_table.txt',float_format='%.3E')"
      ],
      "execution_count": 0,
      "outputs": []
    }
  ]
}